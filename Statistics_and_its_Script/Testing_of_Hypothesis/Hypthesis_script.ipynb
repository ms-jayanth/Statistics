{
 "cells": [
  {
   "cell_type": "markdown",
   "id": "22bf2507",
   "metadata": {},
   "source": [
    "## Hypothesis Testing."
   ]
  },
  {
   "cell_type": "markdown",
   "id": "aa713d62",
   "metadata": {},
   "source": [
    "### Question 1:\n",
    "\n",
    "A F&B manager wants to determine whether there is any significant difference in the diameter of the cutlet between two units. A randomly selected sample of cutlets was collected from both units and measured? Analyze the data and draw inferences at 5% significance level. Please state the assumptions and tests that you carried out to check validity of the assumptions.\n",
    "\n",
    "Data is as below:"
   ]
  },
  {
   "cell_type": "code",
   "execution_count": 1,
   "id": "b6231964",
   "metadata": {},
   "outputs": [
    {
     "data": {
      "text/html": [
       "<div>\n",
       "<style scoped>\n",
       "    .dataframe tbody tr th:only-of-type {\n",
       "        vertical-align: middle;\n",
       "    }\n",
       "\n",
       "    .dataframe tbody tr th {\n",
       "        vertical-align: top;\n",
       "    }\n",
       "\n",
       "    .dataframe thead th {\n",
       "        text-align: right;\n",
       "    }\n",
       "</style>\n",
       "<table border=\"1\" class=\"dataframe\">\n",
       "  <thead>\n",
       "    <tr style=\"text-align: right;\">\n",
       "      <th></th>\n",
       "      <th>Unit A</th>\n",
       "      <th>Unit B</th>\n",
       "    </tr>\n",
       "  </thead>\n",
       "  <tbody>\n",
       "    <tr>\n",
       "      <th>0</th>\n",
       "      <td>6.8090</td>\n",
       "      <td>6.7703</td>\n",
       "    </tr>\n",
       "    <tr>\n",
       "      <th>1</th>\n",
       "      <td>6.4376</td>\n",
       "      <td>7.5093</td>\n",
       "    </tr>\n",
       "    <tr>\n",
       "      <th>2</th>\n",
       "      <td>6.9157</td>\n",
       "      <td>6.7300</td>\n",
       "    </tr>\n",
       "    <tr>\n",
       "      <th>3</th>\n",
       "      <td>7.3012</td>\n",
       "      <td>6.7878</td>\n",
       "    </tr>\n",
       "    <tr>\n",
       "      <th>4</th>\n",
       "      <td>7.4488</td>\n",
       "      <td>7.1522</td>\n",
       "    </tr>\n",
       "  </tbody>\n",
       "</table>\n",
       "</div>"
      ],
      "text/plain": [
       "   Unit A  Unit B\n",
       "0  6.8090  6.7703\n",
       "1  6.4376  7.5093\n",
       "2  6.9157  6.7300\n",
       "3  7.3012  6.7878\n",
       "4  7.4488  7.1522"
      ]
     },
     "execution_count": 1,
     "metadata": {},
     "output_type": "execute_result"
    }
   ],
   "source": [
    "import pandas as pd\n",
    "cutlet_data=pd.read_csv('Cutlets.csv')\n",
    "cutlet_data.head()"
   ]
  },
  {
   "cell_type": "markdown",
   "id": "ac239e24",
   "metadata": {},
   "source": [
    "**Answer:**\n",
    "\n",
    "The hypoothesis of interest here is<br>\n",
    "H0: There is no significant difference in diameters of cutlets between two units i.e., Ho: μ1 = μ2 <br>\n",
    "H1: There is significant difference in diameters of cutlets between two units i.e., H1: μ1 ≠ μ2\n",
    "\n",
    "Level of significance = 5%= 0.05\n",
    "\n",
    "Here we use paired t test:"
   ]
  },
  {
   "cell_type": "code",
   "execution_count": 2,
   "id": "5c4f253e",
   "metadata": {},
   "outputs": [
    {
     "name": "stdout",
     "output_type": "stream",
     "text": [
      "The test statistic:0.7228688704678063 \n",
      "p value:0.4722394724599501\n"
     ]
    }
   ],
   "source": [
    "from scipy import stats\n",
    "unit_a=cutlet_data['Unit A']\n",
    "unit_b=cutlet_data['Unit B']\n",
    "statistic, p_value=stats.ttest_ind(unit_a,unit_b)\n",
    "print('The test statistic:{} \\np value:{}'.format(statistic, p_value))"
   ]
  },
  {
   "cell_type": "markdown",
   "id": "1eedda98",
   "metadata": {},
   "source": [
    "Since, p value is greater than 0.05, we fail to reject null hypothesis. Therefore, we conclude that there is no significant difference in diameters of cutlets between two units."
   ]
  },
  {
   "cell_type": "markdown",
   "id": "e04eb2c3",
   "metadata": {},
   "source": [
    "### ======================================================================================="
   ]
  },
  {
   "cell_type": "markdown",
   "id": "fa705d09",
   "metadata": {},
   "source": [
    "### Question 2:\n",
    "\n",
    "A hospital wants to determine whether there is any difference in the average Turn Around Time (TAT) of reports of the laboratories on their preferred list. They collected a random sample and recorded TAT for reports of 4 laboratories. TAT is defined as sample collected to report dispatch.\n",
    "   \n",
    "  Analyze the data and determine whether there is any difference in average TAT among the different laboratories at 5% significance level.\n",
    "\n",
    "The data is given below:"
   ]
  },
  {
   "cell_type": "code",
   "execution_count": 3,
   "id": "ea1974d4",
   "metadata": {},
   "outputs": [
    {
     "data": {
      "text/html": [
       "<div>\n",
       "<style scoped>\n",
       "    .dataframe tbody tr th:only-of-type {\n",
       "        vertical-align: middle;\n",
       "    }\n",
       "\n",
       "    .dataframe tbody tr th {\n",
       "        vertical-align: top;\n",
       "    }\n",
       "\n",
       "    .dataframe thead th {\n",
       "        text-align: right;\n",
       "    }\n",
       "</style>\n",
       "<table border=\"1\" class=\"dataframe\">\n",
       "  <thead>\n",
       "    <tr style=\"text-align: right;\">\n",
       "      <th></th>\n",
       "      <th>Laboratory 1</th>\n",
       "      <th>Laboratory 2</th>\n",
       "      <th>Laboratory 3</th>\n",
       "      <th>Laboratory 4</th>\n",
       "    </tr>\n",
       "  </thead>\n",
       "  <tbody>\n",
       "    <tr>\n",
       "      <th>0</th>\n",
       "      <td>185.35</td>\n",
       "      <td>165.53</td>\n",
       "      <td>176.70</td>\n",
       "      <td>166.13</td>\n",
       "    </tr>\n",
       "    <tr>\n",
       "      <th>1</th>\n",
       "      <td>170.49</td>\n",
       "      <td>185.91</td>\n",
       "      <td>198.45</td>\n",
       "      <td>160.79</td>\n",
       "    </tr>\n",
       "    <tr>\n",
       "      <th>2</th>\n",
       "      <td>192.77</td>\n",
       "      <td>194.92</td>\n",
       "      <td>201.23</td>\n",
       "      <td>185.18</td>\n",
       "    </tr>\n",
       "    <tr>\n",
       "      <th>3</th>\n",
       "      <td>177.33</td>\n",
       "      <td>183.00</td>\n",
       "      <td>199.61</td>\n",
       "      <td>176.42</td>\n",
       "    </tr>\n",
       "    <tr>\n",
       "      <th>4</th>\n",
       "      <td>193.41</td>\n",
       "      <td>169.57</td>\n",
       "      <td>204.63</td>\n",
       "      <td>152.60</td>\n",
       "    </tr>\n",
       "  </tbody>\n",
       "</table>\n",
       "</div>"
      ],
      "text/plain": [
       "   Laboratory 1  Laboratory 2  Laboratory 3  Laboratory 4\n",
       "0        185.35        165.53        176.70        166.13\n",
       "1        170.49        185.91        198.45        160.79\n",
       "2        192.77        194.92        201.23        185.18\n",
       "3        177.33        183.00        199.61        176.42\n",
       "4        193.41        169.57        204.63        152.60"
      ]
     },
     "execution_count": 3,
     "metadata": {},
     "output_type": "execute_result"
    }
   ],
   "source": [
    "import pandas as pd\n",
    "lab_data=pd.read_csv('LabTAT.csv')\n",
    "lab_data.head()"
   ]
  },
  {
   "cell_type": "markdown",
   "id": "b99bf74a",
   "metadata": {},
   "source": [
    "**Answer:**\n",
    "\n",
    "H0: There is no significance difference in the average TAT of reports between the 4 laboratories.<br>\n",
    "H1: There is significance difference in the average TAT of reports atleast between the 2 laboratories\n",
    "\n",
    "The level of significance is 5%= 0.05\n",
    "\n",
    "Here we use one-way ANOVA:\n",
    "\n",
    "The test statistic is:"
   ]
  },
  {
   "cell_type": "code",
   "execution_count": 4,
   "id": "7fc9c105",
   "metadata": {},
   "outputs": [
    {
     "name": "stdout",
     "output_type": "stream",
     "text": [
      "The test statistic is:118.70421654401437 \n",
      "p_value is:2.1156708949992414e-57\n"
     ]
    }
   ],
   "source": [
    "from scipy import stats\n",
    "lab_1=lab_data.iloc[:,0]\n",
    "lab_2=lab_data.iloc[:,1]\n",
    "lab_3=lab_data.iloc[:,2]\n",
    "lab_4=lab_data.iloc[:,3]\n",
    "statistic, p_value=stats.f_oneway(lab_1,lab_2,lab_3,lab_4)\n",
    "print('The test statistic is:{} \\np_value is:{}'.format(statistic, p_value))"
   ]
  },
  {
   "cell_type": "markdown",
   "id": "a9042330",
   "metadata": {},
   "source": [
    "Since p value is less than 0.05, we reject null hypothesis and therefore we conclude that there is significance difference in the average TAT of reports atleast between the 2 laboratories."
   ]
  },
  {
   "cell_type": "markdown",
   "id": "d82e0b1b",
   "metadata": {},
   "source": [
    "### ======================================================================================="
   ]
  },
  {
   "cell_type": "markdown",
   "id": "58fe85fc",
   "metadata": {},
   "source": [
    "### Question 3:\n",
    "\n",
    "Sales of products in four different regions is tabulated for males and females. Find if male-female buyer rations are similar across regions.\n",
    "\n",
    "The data is given below:"
   ]
  },
  {
   "cell_type": "code",
   "execution_count": 5,
   "id": "ddc58871",
   "metadata": {},
   "outputs": [
    {
     "data": {
      "text/html": [
       "<div>\n",
       "<style scoped>\n",
       "    .dataframe tbody tr th:only-of-type {\n",
       "        vertical-align: middle;\n",
       "    }\n",
       "\n",
       "    .dataframe tbody tr th {\n",
       "        vertical-align: top;\n",
       "    }\n",
       "\n",
       "    .dataframe thead th {\n",
       "        text-align: right;\n",
       "    }\n",
       "</style>\n",
       "<table border=\"1\" class=\"dataframe\">\n",
       "  <thead>\n",
       "    <tr style=\"text-align: right;\">\n",
       "      <th></th>\n",
       "      <th>Observed Values</th>\n",
       "      <th>East</th>\n",
       "      <th>West</th>\n",
       "      <th>North</th>\n",
       "      <th>South</th>\n",
       "    </tr>\n",
       "  </thead>\n",
       "  <tbody>\n",
       "    <tr>\n",
       "      <th>0</th>\n",
       "      <td>Males</td>\n",
       "      <td>50</td>\n",
       "      <td>142</td>\n",
       "      <td>131</td>\n",
       "      <td>70</td>\n",
       "    </tr>\n",
       "    <tr>\n",
       "      <th>1</th>\n",
       "      <td>Females</td>\n",
       "      <td>435</td>\n",
       "      <td>1523</td>\n",
       "      <td>1356</td>\n",
       "      <td>750</td>\n",
       "    </tr>\n",
       "  </tbody>\n",
       "</table>\n",
       "</div>"
      ],
      "text/plain": [
       "  Observed Values  East  West  North  South\n",
       "0           Males    50   142    131     70\n",
       "1         Females   435  1523   1356    750"
      ]
     },
     "execution_count": 5,
     "metadata": {},
     "output_type": "execute_result"
    }
   ],
   "source": [
    "import pandas as pd\n",
    "ratio_data=pd.read_csv('BuyerRatio.csv')\n",
    "ratio_data"
   ]
  },
  {
   "cell_type": "markdown",
   "id": "bd786bad",
   "metadata": {},
   "source": [
    "**Answer:**\n",
    "\n",
    "The hypothesis of interest is:<br>\n",
    "H0: There is no assosiation between genders and regions.<br>\n",
    "H1: There is some assosiation between genders and regions.\n",
    "\n",
    "Level of significance= 5%= 0.05\n",
    "\n",
    "Here we use test for goodness of fit.\n",
    "\n",
    "The test statistic is:"
   ]
  },
  {
   "cell_type": "code",
   "execution_count": 6,
   "id": "803583f0",
   "metadata": {},
   "outputs": [
    {
     "data": {
      "text/html": [
       "<div>\n",
       "<style scoped>\n",
       "    .dataframe tbody tr th:only-of-type {\n",
       "        vertical-align: middle;\n",
       "    }\n",
       "\n",
       "    .dataframe tbody tr th {\n",
       "        vertical-align: top;\n",
       "    }\n",
       "\n",
       "    .dataframe thead th {\n",
       "        text-align: right;\n",
       "    }\n",
       "</style>\n",
       "<table border=\"1\" class=\"dataframe\">\n",
       "  <thead>\n",
       "    <tr style=\"text-align: right;\">\n",
       "      <th></th>\n",
       "      <th>East</th>\n",
       "      <th>West</th>\n",
       "      <th>North</th>\n",
       "      <th>South</th>\n",
       "    </tr>\n",
       "  </thead>\n",
       "  <tbody>\n",
       "    <tr>\n",
       "      <th>0</th>\n",
       "      <td>50</td>\n",
       "      <td>142</td>\n",
       "      <td>131</td>\n",
       "      <td>70</td>\n",
       "    </tr>\n",
       "    <tr>\n",
       "      <th>1</th>\n",
       "      <td>435</td>\n",
       "      <td>1523</td>\n",
       "      <td>1356</td>\n",
       "      <td>750</td>\n",
       "    </tr>\n",
       "  </tbody>\n",
       "</table>\n",
       "</div>"
      ],
      "text/plain": [
       "   East  West  North  South\n",
       "0    50   142    131     70\n",
       "1   435  1523   1356    750"
      ]
     },
     "execution_count": 6,
     "metadata": {},
     "output_type": "execute_result"
    }
   ],
   "source": [
    "from scipy import stats\n",
    "ratio_data=ratio_data.iloc[:,1:6]\n",
    "ratio_data"
   ]
  },
  {
   "cell_type": "code",
   "execution_count": 7,
   "id": "878abd21",
   "metadata": {},
   "outputs": [
    {
     "name": "stdout",
     "output_type": "stream",
     "text": [
      "The test statistic is: 1.595945538661058 \n",
      "The p value is 0.6603094907091882\n"
     ]
    }
   ],
   "source": [
    "chi_square_test_val,pval,dof,expected_table=stats.chi2_contingency(observed = ratio_data)\n",
    "print('The test statistic is: {} \\nThe p value is {}'.format(chi_square_test_val,pval))"
   ]
  },
  {
   "cell_type": "markdown",
   "id": "a682d592",
   "metadata": {},
   "source": [
    "Since, p-value is greater than 0.05, we fail to reject null hypothesis and conclude that there is no assosiation between genders and regions."
   ]
  },
  {
   "cell_type": "markdown",
   "id": "efc92fa0",
   "metadata": {},
   "source": [
    "### ======================================================================================="
   ]
  },
  {
   "cell_type": "markdown",
   "id": "4c3c84e6",
   "metadata": {},
   "source": [
    "### Question 4\n",
    "\n",
    "TeleCall uses 4 centers around the globe to process customer order forms. They audit a certain %  of the customer order forms. Any error in order form renders it defective and has to be reworked before processing.  The manager wants to check whether the defective %  varies by centre. Please analyze the data at 5% significance level and help the manager draw appropriate inferences.\n",
    "\n",
    "The data is as below:"
   ]
  },
  {
   "cell_type": "code",
   "execution_count": 8,
   "id": "71255337",
   "metadata": {},
   "outputs": [
    {
     "data": {
      "text/html": [
       "<div>\n",
       "<style scoped>\n",
       "    .dataframe tbody tr th:only-of-type {\n",
       "        vertical-align: middle;\n",
       "    }\n",
       "\n",
       "    .dataframe tbody tr th {\n",
       "        vertical-align: top;\n",
       "    }\n",
       "\n",
       "    .dataframe thead th {\n",
       "        text-align: right;\n",
       "    }\n",
       "</style>\n",
       "<table border=\"1\" class=\"dataframe\">\n",
       "  <thead>\n",
       "    <tr style=\"text-align: right;\">\n",
       "      <th></th>\n",
       "      <th>Phillippines</th>\n",
       "      <th>Indonesia</th>\n",
       "      <th>Malta</th>\n",
       "      <th>India</th>\n",
       "    </tr>\n",
       "  </thead>\n",
       "  <tbody>\n",
       "    <tr>\n",
       "      <th>0</th>\n",
       "      <td>Error Free</td>\n",
       "      <td>Error Free</td>\n",
       "      <td>Defective</td>\n",
       "      <td>Error Free</td>\n",
       "    </tr>\n",
       "    <tr>\n",
       "      <th>1</th>\n",
       "      <td>Error Free</td>\n",
       "      <td>Error Free</td>\n",
       "      <td>Error Free</td>\n",
       "      <td>Defective</td>\n",
       "    </tr>\n",
       "    <tr>\n",
       "      <th>2</th>\n",
       "      <td>Error Free</td>\n",
       "      <td>Defective</td>\n",
       "      <td>Defective</td>\n",
       "      <td>Error Free</td>\n",
       "    </tr>\n",
       "    <tr>\n",
       "      <th>3</th>\n",
       "      <td>Error Free</td>\n",
       "      <td>Error Free</td>\n",
       "      <td>Error Free</td>\n",
       "      <td>Error Free</td>\n",
       "    </tr>\n",
       "    <tr>\n",
       "      <th>4</th>\n",
       "      <td>Error Free</td>\n",
       "      <td>Error Free</td>\n",
       "      <td>Defective</td>\n",
       "      <td>Error Free</td>\n",
       "    </tr>\n",
       "  </tbody>\n",
       "</table>\n",
       "</div>"
      ],
      "text/plain": [
       "  Phillippines   Indonesia       Malta       India\n",
       "0   Error Free  Error Free   Defective  Error Free\n",
       "1   Error Free  Error Free  Error Free   Defective\n",
       "2   Error Free   Defective   Defective  Error Free\n",
       "3   Error Free  Error Free  Error Free  Error Free\n",
       "4   Error Free  Error Free   Defective  Error Free"
      ]
     },
     "execution_count": 8,
     "metadata": {},
     "output_type": "execute_result"
    }
   ],
   "source": [
    "import pandas as pd\n",
    "telecall_data=pd.read_csv('Costomer+OrderForm.csv')\n",
    "telecall_data.head()"
   ]
  },
  {
   "cell_type": "markdown",
   "id": "8a5201d6",
   "metadata": {},
   "source": [
    "**Answer:**\n",
    "\n",
    "The hypothesis of interest is<br>\n",
    "H0: There is no assosiation between centre and defective<br>\n",
    "H1: There is assosiation between centre and defective.\n",
    "\n",
    "Level of significance=5%=0.05\n",
    "\n",
    "The test statistic is:"
   ]
  },
  {
   "cell_type": "code",
   "execution_count": 9,
   "id": "d3c722c2",
   "metadata": {},
   "outputs": [
    {
     "name": "stdout",
     "output_type": "stream",
     "text": [
      "Error Free    271\n",
      "Defective      29\n",
      "Name: Phillippines, dtype: int64\n",
      "--------------------------------\n",
      "Error Free    267\n",
      "Defective      33\n",
      "Name: Indonesia, dtype: int64\n",
      "--------------------------------\n",
      "Error Free    269\n",
      "Defective      31\n",
      "Name: Malta, dtype: int64\n",
      "--------------------------------\n",
      "Error Free    280\n",
      "Defective      20\n",
      "Name: India, dtype: int64\n"
     ]
    }
   ],
   "source": [
    "print(telecall_data['Phillippines'].value_counts())\n",
    "print('--------------------------------')\n",
    "print(telecall_data['Indonesia'].value_counts())\n",
    "print('--------------------------------')\n",
    "print(telecall_data['Malta'].value_counts())\n",
    "print('--------------------------------')\n",
    "print(telecall_data['India'].value_counts())"
   ]
  },
  {
   "cell_type": "code",
   "execution_count": 10,
   "id": "4adf1777",
   "metadata": {},
   "outputs": [
    {
     "data": {
      "text/plain": [
       "{'Phillippines': [279, 29],\n",
       " 'Indonesia': [267, 33],\n",
       " 'Malta': [269, 31],\n",
       " 'India': [280, 20]}"
      ]
     },
     "execution_count": 10,
     "metadata": {},
     "output_type": "execute_result"
    }
   ],
   "source": [
    "data={'Phillippines':[279,29],'Indonesia':[267,33],'Malta':[269,31],'India':[280,20]}\n",
    "data"
   ]
  },
  {
   "cell_type": "code",
   "execution_count": 11,
   "id": "19dcbb43",
   "metadata": {},
   "outputs": [
    {
     "data": {
      "text/html": [
       "<div>\n",
       "<style scoped>\n",
       "    .dataframe tbody tr th:only-of-type {\n",
       "        vertical-align: middle;\n",
       "    }\n",
       "\n",
       "    .dataframe tbody tr th {\n",
       "        vertical-align: top;\n",
       "    }\n",
       "\n",
       "    .dataframe thead th {\n",
       "        text-align: right;\n",
       "    }\n",
       "</style>\n",
       "<table border=\"1\" class=\"dataframe\">\n",
       "  <thead>\n",
       "    <tr style=\"text-align: right;\">\n",
       "      <th></th>\n",
       "      <th>Phillippines</th>\n",
       "      <th>Indonesia</th>\n",
       "      <th>Malta</th>\n",
       "      <th>India</th>\n",
       "    </tr>\n",
       "  </thead>\n",
       "  <tbody>\n",
       "    <tr>\n",
       "      <th>Error_Free</th>\n",
       "      <td>279</td>\n",
       "      <td>267</td>\n",
       "      <td>269</td>\n",
       "      <td>280</td>\n",
       "    </tr>\n",
       "    <tr>\n",
       "      <th>Defective</th>\n",
       "      <td>29</td>\n",
       "      <td>33</td>\n",
       "      <td>31</td>\n",
       "      <td>20</td>\n",
       "    </tr>\n",
       "  </tbody>\n",
       "</table>\n",
       "</div>"
      ],
      "text/plain": [
       "            Phillippines  Indonesia  Malta  India\n",
       "Error_Free           279        267    269    280\n",
       "Defective             29         33     31     20"
      ]
     },
     "execution_count": 11,
     "metadata": {},
     "output_type": "execute_result"
    }
   ],
   "source": [
    "tele_call=pd.DataFrame(data)\n",
    "tele_call.index=['Error_Free','Defective']\n",
    "tele_call"
   ]
  },
  {
   "cell_type": "code",
   "execution_count": 12,
   "id": "d7030203",
   "metadata": {},
   "outputs": [
    {
     "name": "stdout",
     "output_type": "stream",
     "text": [
      "The test statistic is: 3.8543617075802796 \n",
      "The p value is 0.27762595746783403\n"
     ]
    }
   ],
   "source": [
    "from scipy import stats\n",
    "chi_square_test_val,pval,dof,expected_table=stats.chi2_contingency(observed = tele_call)\n",
    "print('The test statistic is: {} \\nThe p value is {}'.format(chi_square_test_val,pval))"
   ]
  },
  {
   "cell_type": "markdown",
   "id": "34359b12",
   "metadata": {},
   "source": [
    "Since, p value is greater than 0.05, we fail to reject null hypoothesis and therefore we conclude that there is no assosiation between centre and defective."
   ]
  }
 ],
 "metadata": {
  "kernelspec": {
   "display_name": "Python 3",
   "language": "python",
   "name": "python3"
  },
  "language_info": {
   "codemirror_mode": {
    "name": "ipython",
    "version": 3
   },
   "file_extension": ".py",
   "mimetype": "text/x-python",
   "name": "python",
   "nbconvert_exporter": "python",
   "pygments_lexer": "ipython3",
   "version": "3.8.8"
  }
 },
 "nbformat": 4,
 "nbformat_minor": 5
}
