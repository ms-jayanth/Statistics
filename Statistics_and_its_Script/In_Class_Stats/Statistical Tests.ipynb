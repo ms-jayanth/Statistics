{
 "cells": [
  {
   "cell_type": "markdown",
   "id": "238d29ba",
   "metadata": {},
   "source": [
    "## 1. Regression Test\n",
    "\n",
    "**Why?: To understand the linear relationship b/w 2 quantitative variables.**"
   ]
  },
  {
   "cell_type": "code",
   "execution_count": 1,
   "id": "61b20387",
   "metadata": {},
   "outputs": [],
   "source": [
    "experience=[1,2,3,4,5,6,7,8,9,10]\n",
    "salary= [10000, 20000, 30000, 40000, 50000, 60000, 70000, 80000, 90000, 100000]"
   ]
  },
  {
   "cell_type": "code",
   "execution_count": 17,
   "id": "b61a9018",
   "metadata": {},
   "outputs": [],
   "source": [
    "from matplotlib import pyplot as plt\n",
    "import seaborn as sns\n",
    "import pandas as pd\n",
    "import numpy as np\n",
    "\n",
    "import warnings\n",
    "warnings.filterwarnings('ignore')"
   ]
  },
  {
   "cell_type": "markdown",
   "id": "f02f9413",
   "metadata": {},
   "source": [
    "### Hypothesis formulation\n",
    "\n",
    "H0: There is no linear assosiation between experiance and salary<br>\n",
    "Ha: There is linear assosiation between experiance and salary. [Statistical significant]\n",
    "\n",
    "Level of Significance= 10%"
   ]
  },
  {
   "cell_type": "code",
   "execution_count": 3,
   "id": "cc28eb9b",
   "metadata": {},
   "outputs": [
    {
     "data": {
      "image/png": "[encoded data removed]",
      "text/plain": [
       "<Figure size 432x288 with 1 Axes>"
      ]
     },
     "metadata": {
      "needs_background": "light"
     },
     "output_type": "display_data"
    }
   ],
   "source": [
    "sns.scatterplot(experience, salary)\n",
    "plt.xlabel('Experience')\n",
    "plt.ylabel('Salary')\n",
    "plt.title('Experience Vs Salary')\n",
    "plt.show()"
   ]
  },
  {
   "cell_type": "code",
   "execution_count": 4,
   "id": "780347ea",
   "metadata": {},
   "outputs": [],
   "source": [
    "import statsmodels.formula.api as smf"
   ]
  },
  {
   "cell_type": "code",
   "execution_count": 5,
   "id": "2f550004",
   "metadata": {},
   "outputs": [
    {
     "data": {
      "text/html": [
       "<div>\n",
       "<style scoped>\n",
       "    .dataframe tbody tr th:only-of-type {\n",
       "        vertical-align: middle;\n",
       "    }\n",
       "\n",
       "    .dataframe tbody tr th {\n",
       "        vertical-align: top;\n",
       "    }\n",
       "\n",
       "    .dataframe thead th {\n",
       "        text-align: right;\n",
       "    }\n",
       "</style>\n",
       "<table border=\"1\" class=\"dataframe\">\n",
       "  <thead>\n",
       "    <tr style=\"text-align: right;\">\n",
       "      <th></th>\n",
       "      <th>Experience</th>\n",
       "      <th>Salary</th>\n",
       "    </tr>\n",
       "  </thead>\n",
       "  <tbody>\n",
       "    <tr>\n",
       "      <th>0</th>\n",
       "      <td>1</td>\n",
       "      <td>10000</td>\n",
       "    </tr>\n",
       "    <tr>\n",
       "      <th>1</th>\n",
       "      <td>2</td>\n",
       "      <td>20000</td>\n",
       "    </tr>\n",
       "    <tr>\n",
       "      <th>2</th>\n",
       "      <td>3</td>\n",
       "      <td>30000</td>\n",
       "    </tr>\n",
       "    <tr>\n",
       "      <th>3</th>\n",
       "      <td>4</td>\n",
       "      <td>40000</td>\n",
       "    </tr>\n",
       "    <tr>\n",
       "      <th>4</th>\n",
       "      <td>5</td>\n",
       "      <td>50000</td>\n",
       "    </tr>\n",
       "    <tr>\n",
       "      <th>5</th>\n",
       "      <td>6</td>\n",
       "      <td>60000</td>\n",
       "    </tr>\n",
       "    <tr>\n",
       "      <th>6</th>\n",
       "      <td>7</td>\n",
       "      <td>70000</td>\n",
       "    </tr>\n",
       "    <tr>\n",
       "      <th>7</th>\n",
       "      <td>8</td>\n",
       "      <td>80000</td>\n",
       "    </tr>\n",
       "    <tr>\n",
       "      <th>8</th>\n",
       "      <td>9</td>\n",
       "      <td>90000</td>\n",
       "    </tr>\n",
       "    <tr>\n",
       "      <th>9</th>\n",
       "      <td>10</td>\n",
       "      <td>100000</td>\n",
       "    </tr>\n",
       "  </tbody>\n",
       "</table>\n",
       "</div>"
      ],
      "text/plain": [
       "   Experience  Salary\n",
       "0           1   10000\n",
       "1           2   20000\n",
       "2           3   30000\n",
       "3           4   40000\n",
       "4           5   50000\n",
       "5           6   60000\n",
       "6           7   70000\n",
       "7           8   80000\n",
       "8           9   90000\n",
       "9          10  100000"
      ]
     },
     "execution_count": 5,
     "metadata": {},
     "output_type": "execute_result"
    }
   ],
   "source": [
    "salary_data=pd.DataFrame(data={'Experience':experience,'Salary':salary})\n",
    "salary_data"
   ]
  },
  {
   "cell_type": "code",
   "execution_count": 6,
   "id": "e9c40697",
   "metadata": {},
   "outputs": [],
   "source": [
    "linear_model=smf.ols(formula='Salary~Experience',data=salary_data).fit()"
   ]
  },
  {
   "cell_type": "code",
   "execution_count": 7,
   "id": "62c038ca",
   "metadata": {},
   "outputs": [
    {
     "data": {
      "text/plain": [
       "Intercept      6.351819e-01\n",
       "Experience    1.145302e-122\n",
       "dtype: float64"
      ]
     },
     "execution_count": 7,
     "metadata": {},
     "output_type": "execute_result"
    }
   ],
   "source": [
    "linear_model.pvalues"
   ]
  },
  {
   "cell_type": "markdown",
   "id": "c1136af2",
   "metadata": {},
   "source": [
    "###  Observation:\n",
    "\n",
    "At 10% level of significance, I am rejecting the Null Hypothesis and can say that Salary and Experiance is having linear assosiation."
   ]
  },
  {
   "cell_type": "markdown",
   "id": "7128d3ee",
   "metadata": {},
   "source": [
    "## 2. Chi-Square Test\n",
    "\n",
    "**Why? : To understand the assosiation between 2 qualitative variables**"
   ]
  },
  {
   "cell_type": "code",
   "execution_count": 8,
   "id": "d4a95b73",
   "metadata": {},
   "outputs": [
    {
     "data": {
      "text/plain": [
       "['anagrams',\n",
       " 'anscombe',\n",
       " 'attention',\n",
       " 'brain_networks',\n",
       " 'car_crashes',\n",
       " 'diamonds',\n",
       " 'dots',\n",
       " 'exercise',\n",
       " 'flights',\n",
       " 'fmri',\n",
       " 'gammas',\n",
       " 'geyser',\n",
       " 'iris',\n",
       " 'mpg',\n",
       " 'penguins',\n",
       " 'planets',\n",
       " 'taxis',\n",
       " 'tips',\n",
       " 'titanic']"
      ]
     },
     "execution_count": 8,
     "metadata": {},
     "output_type": "execute_result"
    }
   ],
   "source": [
    "sns.get_dataset_names()"
   ]
  },
  {
   "cell_type": "code",
   "execution_count": 9,
   "id": "cc70467f",
   "metadata": {},
   "outputs": [
    {
     "data": {
      "text/html": [
       "<div>\n",
       "<style scoped>\n",
       "    .dataframe tbody tr th:only-of-type {\n",
       "        vertical-align: middle;\n",
       "    }\n",
       "\n",
       "    .dataframe tbody tr th {\n",
       "        vertical-align: top;\n",
       "    }\n",
       "\n",
       "    .dataframe thead th {\n",
       "        text-align: right;\n",
       "    }\n",
       "</style>\n",
       "<table border=\"1\" class=\"dataframe\">\n",
       "  <thead>\n",
       "    <tr style=\"text-align: right;\">\n",
       "      <th></th>\n",
       "      <th>total_bill</th>\n",
       "      <th>tip</th>\n",
       "      <th>sex</th>\n",
       "      <th>smoker</th>\n",
       "      <th>day</th>\n",
       "      <th>time</th>\n",
       "      <th>size</th>\n",
       "    </tr>\n",
       "  </thead>\n",
       "  <tbody>\n",
       "    <tr>\n",
       "      <th>0</th>\n",
       "      <td>16.99</td>\n",
       "      <td>1.01</td>\n",
       "      <td>Female</td>\n",
       "      <td>No</td>\n",
       "      <td>Sun</td>\n",
       "      <td>Dinner</td>\n",
       "      <td>2</td>\n",
       "    </tr>\n",
       "    <tr>\n",
       "      <th>1</th>\n",
       "      <td>10.34</td>\n",
       "      <td>1.66</td>\n",
       "      <td>Male</td>\n",
       "      <td>No</td>\n",
       "      <td>Sun</td>\n",
       "      <td>Dinner</td>\n",
       "      <td>3</td>\n",
       "    </tr>\n",
       "    <tr>\n",
       "      <th>2</th>\n",
       "      <td>21.01</td>\n",
       "      <td>3.50</td>\n",
       "      <td>Male</td>\n",
       "      <td>No</td>\n",
       "      <td>Sun</td>\n",
       "      <td>Dinner</td>\n",
       "      <td>3</td>\n",
       "    </tr>\n",
       "    <tr>\n",
       "      <th>3</th>\n",
       "      <td>23.68</td>\n",
       "      <td>3.31</td>\n",
       "      <td>Male</td>\n",
       "      <td>No</td>\n",
       "      <td>Sun</td>\n",
       "      <td>Dinner</td>\n",
       "      <td>2</td>\n",
       "    </tr>\n",
       "    <tr>\n",
       "      <th>4</th>\n",
       "      <td>24.59</td>\n",
       "      <td>3.61</td>\n",
       "      <td>Female</td>\n",
       "      <td>No</td>\n",
       "      <td>Sun</td>\n",
       "      <td>Dinner</td>\n",
       "      <td>4</td>\n",
       "    </tr>\n",
       "    <tr>\n",
       "      <th>...</th>\n",
       "      <td>...</td>\n",
       "      <td>...</td>\n",
       "      <td>...</td>\n",
       "      <td>...</td>\n",
       "      <td>...</td>\n",
       "      <td>...</td>\n",
       "      <td>...</td>\n",
       "    </tr>\n",
       "    <tr>\n",
       "      <th>239</th>\n",
       "      <td>29.03</td>\n",
       "      <td>5.92</td>\n",
       "      <td>Male</td>\n",
       "      <td>No</td>\n",
       "      <td>Sat</td>\n",
       "      <td>Dinner</td>\n",
       "      <td>3</td>\n",
       "    </tr>\n",
       "    <tr>\n",
       "      <th>240</th>\n",
       "      <td>27.18</td>\n",
       "      <td>2.00</td>\n",
       "      <td>Female</td>\n",
       "      <td>Yes</td>\n",
       "      <td>Sat</td>\n",
       "      <td>Dinner</td>\n",
       "      <td>2</td>\n",
       "    </tr>\n",
       "    <tr>\n",
       "      <th>241</th>\n",
       "      <td>22.67</td>\n",
       "      <td>2.00</td>\n",
       "      <td>Male</td>\n",
       "      <td>Yes</td>\n",
       "      <td>Sat</td>\n",
       "      <td>Dinner</td>\n",
       "      <td>2</td>\n",
       "    </tr>\n",
       "    <tr>\n",
       "      <th>242</th>\n",
       "      <td>17.82</td>\n",
       "      <td>1.75</td>\n",
       "      <td>Male</td>\n",
       "      <td>No</td>\n",
       "      <td>Sat</td>\n",
       "      <td>Dinner</td>\n",
       "      <td>2</td>\n",
       "    </tr>\n",
       "    <tr>\n",
       "      <th>243</th>\n",
       "      <td>18.78</td>\n",
       "      <td>3.00</td>\n",
       "      <td>Female</td>\n",
       "      <td>No</td>\n",
       "      <td>Thur</td>\n",
       "      <td>Dinner</td>\n",
       "      <td>2</td>\n",
       "    </tr>\n",
       "  </tbody>\n",
       "</table>\n",
       "<p>244 rows × 7 columns</p>\n",
       "</div>"
      ],
      "text/plain": [
       "     total_bill   tip     sex smoker   day    time  size\n",
       "0         16.99  1.01  Female     No   Sun  Dinner     2\n",
       "1         10.34  1.66    Male     No   Sun  Dinner     3\n",
       "2         21.01  3.50    Male     No   Sun  Dinner     3\n",
       "3         23.68  3.31    Male     No   Sun  Dinner     2\n",
       "4         24.59  3.61  Female     No   Sun  Dinner     4\n",
       "..          ...   ...     ...    ...   ...     ...   ...\n",
       "239       29.03  5.92    Male     No   Sat  Dinner     3\n",
       "240       27.18  2.00  Female    Yes   Sat  Dinner     2\n",
       "241       22.67  2.00    Male    Yes   Sat  Dinner     2\n",
       "242       17.82  1.75    Male     No   Sat  Dinner     2\n",
       "243       18.78  3.00  Female     No  Thur  Dinner     2\n",
       "\n",
       "[244 rows x 7 columns]"
      ]
     },
     "execution_count": 9,
     "metadata": {},
     "output_type": "execute_result"
    }
   ],
   "source": [
    "tips_data=sns.load_dataset(name='tips')\n",
    "tips_data"
   ]
  },
  {
   "cell_type": "markdown",
   "id": "1570fe9d",
   "metadata": {},
   "source": [
    "### Hypothesis formulation:\n",
    "\n",
    "H0: There is no significant assosiation between Sex and Smokers.<br>\n",
    "Ha: There is a significant assosiation between Sex and Smokers.\n",
    "\n",
    "Level of significance: 10%"
   ]
  },
  {
   "cell_type": "code",
   "execution_count": 10,
   "id": "51a75a74",
   "metadata": {},
   "outputs": [
    {
     "data": {
      "text/html": [
       "<div>\n",
       "<style scoped>\n",
       "    .dataframe tbody tr th:only-of-type {\n",
       "        vertical-align: middle;\n",
       "    }\n",
       "\n",
       "    .dataframe tbody tr th {\n",
       "        vertical-align: top;\n",
       "    }\n",
       "\n",
       "    .dataframe thead th {\n",
       "        text-align: right;\n",
       "    }\n",
       "</style>\n",
       "<table border=\"1\" class=\"dataframe\">\n",
       "  <thead>\n",
       "    <tr style=\"text-align: right;\">\n",
       "      <th>smoker</th>\n",
       "      <th>Yes</th>\n",
       "      <th>No</th>\n",
       "    </tr>\n",
       "    <tr>\n",
       "      <th>sex</th>\n",
       "      <th></th>\n",
       "      <th></th>\n",
       "    </tr>\n",
       "  </thead>\n",
       "  <tbody>\n",
       "    <tr>\n",
       "      <th>Male</th>\n",
       "      <td>60</td>\n",
       "      <td>97</td>\n",
       "    </tr>\n",
       "    <tr>\n",
       "      <th>Female</th>\n",
       "      <td>33</td>\n",
       "      <td>54</td>\n",
       "    </tr>\n",
       "  </tbody>\n",
       "</table>\n",
       "</div>"
      ],
      "text/plain": [
       "smoker  Yes  No\n",
       "sex            \n",
       "Male     60  97\n",
       "Female   33  54"
      ]
     },
     "execution_count": 10,
     "metadata": {},
     "output_type": "execute_result"
    }
   ],
   "source": [
    "observed_table=pd.crosstab(index=tips_data['sex'],columns=tips_data['smoker'])\n",
    "observed_table"
   ]
  },
  {
   "cell_type": "code",
   "execution_count": 11,
   "id": "98ed4847",
   "metadata": {},
   "outputs": [],
   "source": [
    "from scipy import stats"
   ]
  },
  {
   "cell_type": "code",
   "execution_count": 12,
   "id": "d1fe3d98",
   "metadata": {},
   "outputs": [],
   "source": [
    "chi_square_test_val, p_val, dof, expected_table=stats.chi2_contingency(observed=observed_table) #Chi-square test of independence of variables in a contingency table."
   ]
  },
  {
   "cell_type": "code",
   "execution_count": 13,
   "id": "172cd6ee",
   "metadata": {},
   "outputs": [
    {
     "name": "stdout",
     "output_type": "stream",
     "text": [
      "**********************************************\n",
      "Chi-square Test: 0.008763290531773594\n",
      "P-value: 0.925417020494423\n",
      "Degrees of freedom: 1\n",
      "Expected Table:\n",
      " [[59.84016393 97.15983607]\n",
      " [33.15983607 53.84016393]]\n",
      "**********************************************\n"
     ]
    }
   ],
   "source": [
    "print('**********************************************')\n",
    "print('Chi-square Test:', chi_square_test_val)\n",
    "print(\"P-value:\",p_val)\n",
    "print('Degrees of freedom:',dof)\n",
    "print('Expected Table:\\n',expected_table)\n",
    "print('**********************************************')"
   ]
  },
  {
   "cell_type": "code",
   "execution_count": 14,
   "id": "784f56bd",
   "metadata": {},
   "outputs": [
    {
     "name": "stdout",
     "output_type": "stream",
     "text": [
      " We cannot reject the null hypothesis and claim that there is a significant assosiation between Sex and Smokers.\n"
     ]
    }
   ],
   "source": [
    "if p_val<0.10:\n",
    "    print('We can reject the null hypothesis and can claim that there is no significant assosiation between Sex and Smokers.')\n",
    "else:\n",
    "    print(' We cannot reject the null hypothesis and claim that there is a significant assosiation between Sex and Smokers.')"
   ]
  },
  {
   "cell_type": "markdown",
   "id": "dc562650",
   "metadata": {},
   "source": [
    "## 3. t- Test\n",
    "\n",
    "* 1 Sample t test\n",
    "* 2 Sample t test\n",
    "* ANOVA\n",
    "* Paired t test"
   ]
  },
  {
   "cell_type": "markdown",
   "id": "8f51f4bd",
   "metadata": {},
   "source": [
    "### 1 Sample t- Test"
   ]
  },
  {
   "cell_type": "code",
   "execution_count": 15,
   "id": "53611fad",
   "metadata": {},
   "outputs": [
    {
     "data": {
      "text/plain": [
       "30"
      ]
     },
     "execution_count": 15,
     "metadata": {},
     "output_type": "execute_result"
    }
   ],
   "source": [
    "ages=[20,40,50,40,30,50,40,30,45,60,40,18,30,60,40,30,50,40,50,60,30,27,70,48,60,50, 25, 45, 40,40]\n",
    "len(ages)"
   ]
  },
  {
   "cell_type": "code",
   "execution_count": 18,
   "id": "5ed634e1",
   "metadata": {},
   "outputs": [
    {
     "data": {
      "text/plain": [
       "41.93333333333333"
      ]
     },
     "execution_count": 18,
     "metadata": {},
     "output_type": "execute_result"
    }
   ],
   "source": [
    "np.mean(ages)"
   ]
  },
  {
   "cell_type": "code",
   "execution_count": 19,
   "id": "0dc5085d",
   "metadata": {},
   "outputs": [
    {
     "data": {
      "text/plain": [
       "array([45, 40, 50, 27, 40])"
      ]
     },
     "execution_count": 19,
     "metadata": {},
     "output_type": "execute_result"
    }
   ],
   "source": [
    "random_samp=np.random.choice(a=ages, size=5) #Generates a random sample from a given 1-D array\n",
    "random_samp"
   ]
  },
  {
   "cell_type": "code",
   "execution_count": 20,
   "id": "c18fe7e1",
   "metadata": {},
   "outputs": [
    {
     "data": {
      "text/plain": [
       "40.4"
      ]
     },
     "execution_count": 20,
     "metadata": {},
     "output_type": "execute_result"
    }
   ],
   "source": [
    "np.mean(random_samp)"
   ]
  },
  {
   "cell_type": "markdown",
   "id": "7fc9bca1",
   "metadata": {},
   "source": [
    "### Hypothesis formulation:\n",
    "\n",
    "H0: The average age og the users is 40. (There is no significant difference with respect to the population avg ans sample avg)<br>\n",
    "Ha: It is not 40.(There is significant difference with respect to the population avg ans sample avg)\n",
    "\n",
    "Level of significance: 5%"
   ]
  },
  {
   "cell_type": "code",
   "execution_count": 21,
   "id": "7af80072",
   "metadata": {},
   "outputs": [],
   "source": [
    "t_test_val, p_val=stats.ttest_1samp(a=random_samp, popmean=42) #Calculate the T-test for the mean of ONE group of scores."
   ]
  },
  {
   "cell_type": "code",
   "execution_count": 22,
   "id": "af6dd419",
   "metadata": {},
   "outputs": [
    {
     "data": {
      "text/plain": [
       "0.6974916305426404"
      ]
     },
     "execution_count": 22,
     "metadata": {},
     "output_type": "execute_result"
    }
   ],
   "source": [
    "p_val"
   ]
  },
  {
   "cell_type": "code",
   "execution_count": 31,
   "id": "734337e7",
   "metadata": {},
   "outputs": [
    {
     "name": "stdout",
     "output_type": "stream",
     "text": [
      "We do not reject the Null Hypothesis and we can claim that there is no significant difference in the population mean and sample mean\n"
     ]
    }
   ],
   "source": [
    "#Level if significance - 5%. ie, At 10% level of significance, do we reject ot not reject?\n",
    "if p_val<0.05:\n",
    "    print('We can reject the Null Hypothesis and we can claim that there is a significant difference in the population mean and sample mean')\n",
    "else:\n",
    "    print('We do not reject the Null Hypothesis and we can claim that there is no significant difference in the population mean and sample mean')"
   ]
  },
  {
   "cell_type": "markdown",
   "id": "f9dcf443",
   "metadata": {},
   "source": [
    "### 2 Sample t- Test"
   ]
  },
  {
   "cell_type": "code",
   "execution_count": 25,
   "id": "d6a09787",
   "metadata": {},
   "outputs": [],
   "source": [
    "covishield_reaction_time = [48,50,24,24,24,50]\n",
    "covaxin_reaction_time    = [0,0,2,0,2,0]"
   ]
  },
  {
   "cell_type": "code",
   "execution_count": 26,
   "id": "46fb3930",
   "metadata": {},
   "outputs": [
    {
     "data": {
      "text/plain": [
       "36.666666666666664"
      ]
     },
     "execution_count": 26,
     "metadata": {},
     "output_type": "execute_result"
    }
   ],
   "source": [
    "np.mean(covishield_reaction_time)"
   ]
  },
  {
   "cell_type": "code",
   "execution_count": 27,
   "id": "dc843197",
   "metadata": {},
   "outputs": [
    {
     "data": {
      "text/plain": [
       "0.6666666666666666"
      ]
     },
     "execution_count": 27,
     "metadata": {},
     "output_type": "execute_result"
    }
   ],
   "source": [
    "np.mean(covaxin_reaction_time)"
   ]
  },
  {
   "cell_type": "markdown",
   "id": "0ec36d47",
   "metadata": {},
   "source": [
    "### Hypothesis formulation\n",
    "\n",
    "H0: There is no significant difference in the average reaction time of covishield and covaxin<br>\n",
    "Ha: There is a significant difference in the average reaction time of covishield and covaxin\n",
    "\n",
    "Level of significance=5%"
   ]
  },
  {
   "cell_type": "code",
   "execution_count": 30,
   "id": "2d6ec4ef",
   "metadata": {},
   "outputs": [
    {
     "data": {
      "text/plain": [
       "8.582002062447786e-05"
      ]
     },
     "execution_count": 30,
     "metadata": {},
     "output_type": "execute_result"
    }
   ],
   "source": [
    "_,pval=stats.ttest_ind(a = covishield_reaction_time,b = covaxin_reaction_time) #Calculate the T-test for the means of *two independent* samples of scores.\n",
    "pval"
   ]
  },
  {
   "cell_type": "code",
   "execution_count": 32,
   "id": "928453b5",
   "metadata": {},
   "outputs": [
    {
     "name": "stdout",
     "output_type": "stream",
     "text": [
      "We reject the Null Hypothesis and we can claim that there is a significant difference in the average reaction time of covishield and covaxin\n"
     ]
    }
   ],
   "source": [
    "#Level if significance - 5%. ie, At 1% level of significance, do we reject ot not reject?\n",
    "if pval<0.05:\n",
    "    print('We reject the Null Hypothesis and we can claim that there is a significant difference in the average reaction time of covishield and covaxin')\n",
    "else:\n",
    "    print('We do not reject the Null Hypothesis and we can claim that there is no significant difference in the average reaction time of covishield and covaxin')"
   ]
  },
  {
   "cell_type": "markdown",
   "id": "7c5dc9db",
   "metadata": {},
   "source": [
    "### Paired t- Test"
   ]
  },
  {
   "cell_type": "code",
   "execution_count": 33,
   "id": "835fff02",
   "metadata": {},
   "outputs": [],
   "source": [
    "preweightloss_program  = [110,100,120,105,100,110,99,120,110,100]\n",
    "postweightloss_program = [80,78,90,89,88,90,80,80,85,70]"
   ]
  },
  {
   "cell_type": "code",
   "execution_count": 34,
   "id": "05a57fd8",
   "metadata": {},
   "outputs": [
    {
     "data": {
      "text/plain": [
       "107.4"
      ]
     },
     "execution_count": 34,
     "metadata": {},
     "output_type": "execute_result"
    }
   ],
   "source": [
    "np.mean(preweightloss_program)"
   ]
  },
  {
   "cell_type": "code",
   "execution_count": 35,
   "id": "fc35f16d",
   "metadata": {},
   "outputs": [
    {
     "data": {
      "text/plain": [
       "83.0"
      ]
     },
     "execution_count": 35,
     "metadata": {},
     "output_type": "execute_result"
    }
   ],
   "source": [
    "np.mean(postweightloss_program)"
   ]
  },
  {
   "cell_type": "markdown",
   "id": "d2bd595f",
   "metadata": {},
   "source": [
    "### Hypothesis formulation:\n",
    "\n",
    "H0: There is no significant difference in the average weights before and after the weighloss program<br>\n",
    "Ha: There is a significant difference in the average weights before and after the weighloss program\n",
    "\n",
    "Level of significance=5%"
   ]
  },
  {
   "cell_type": "code",
   "execution_count": 36,
   "id": "7a2a3d23",
   "metadata": {},
   "outputs": [
    {
     "data": {
      "text/plain": [
       "6.389963390670724e-06"
      ]
     },
     "execution_count": 36,
     "metadata": {},
     "output_type": "execute_result"
    }
   ],
   "source": [
    "_,pval = stats.ttest_rel(a = preweightloss_program, b = postweightloss_program) #Calculate the t-test on TWO RELATED samples of scores, a and b.\n",
    "pval"
   ]
  },
  {
   "cell_type": "code",
   "execution_count": 37,
   "id": "0d89ebb9",
   "metadata": {},
   "outputs": [
    {
     "name": "stdout",
     "output_type": "stream",
     "text": [
      "We reject the Null Hypothesis and we can claim that there is a significant difference in the average weights before and after the weighloss program\n"
     ]
    }
   ],
   "source": [
    "#Level if significance - 5%. ie, At 5% level of significance, do we reject ot not reject?\n",
    "if pval<0.05:\n",
    "    print('We reject the Null Hypothesis and we can claim that there is a significant difference in the average weights before and after the weighloss program')\n",
    "else:\n",
    "    print('We do not reject the Null Hypothesis and we can claim that there is no significant difference in the average weights before and after the weighloss program')"
   ]
  },
  {
   "cell_type": "markdown",
   "id": "249982d0",
   "metadata": {},
   "source": [
    "### ANOVA"
   ]
  },
  {
   "cell_type": "code",
   "execution_count": null,
   "id": "95d5ae3e",
   "metadata": {},
   "outputs": [],
   "source": [
    "stats.f_oneway()"
   ]
  },
  {
   "cell_type": "markdown",
   "id": "a2fb36b5",
   "metadata": {},
   "source": [
    "## TASK\n",
    "FORMULATE 2 HYPOTHESIS STATEMENT FOR EACH STATISTICAL TEST along with SCRIPTS. "
   ]
  }
 ],
 "metadata": {
  "kernelspec": {
   "display_name": "Python 3",
   "language": "python",
   "name": "python3"
  },
  "language_info": {
   "codemirror_mode": {
    "name": "ipython",
    "version": 3
   },
   "file_extension": ".py",
   "mimetype": "text/x-python",
   "name": "python",
   "nbconvert_exporter": "python",
   "pygments_lexer": "ipython3",
   "version": "3.8.8"
  }
 },
 "nbformat": 4,
 "nbformat_minor": 5
}
