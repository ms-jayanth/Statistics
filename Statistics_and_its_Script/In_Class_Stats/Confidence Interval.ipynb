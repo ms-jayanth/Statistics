{
 "cells": [
  {
   "cell_type": "markdown",
   "id": "d0ac2c76",
   "metadata": {},
   "source": [
    "## Z- test and T-test"
   ]
  },
  {
   "cell_type": "code",
   "execution_count": 2,
   "id": "16774e85",
   "metadata": {},
   "outputs": [],
   "source": [
    "from scipy import stats"
   ]
  },
  {
   "cell_type": "markdown",
   "id": "24af5f58",
   "metadata": {},
   "source": [
    "### Z table- To know the Z value-95%"
   ]
  },
  {
   "cell_type": "code",
   "execution_count": 4,
   "id": "09e18838",
   "metadata": {},
   "outputs": [
    {
     "data": {
      "text/plain": [
       "1.959963984540054"
      ]
     },
     "execution_count": 4,
     "metadata": {},
     "output_type": "execute_result"
    }
   ],
   "source": [
    "stats.norm.ppf(0.975) #Percent point function (inverse of `cdf`) at q of the given RV."
   ]
  },
  {
   "cell_type": "markdown",
   "id": "8802cd77",
   "metadata": {},
   "source": [
    "### T table- To know thent value with df -95%"
   ]
  },
  {
   "cell_type": "code",
   "execution_count": 5,
   "id": "68cef41c",
   "metadata": {},
   "outputs": [
    {
     "data": {
      "text/plain": [
       "1.977177724476122"
      ]
     },
     "execution_count": 5,
     "metadata": {},
     "output_type": "execute_result"
    }
   ],
   "source": [
    "stats.t.ppf(0.975,df=139)"
   ]
  }
 ],
 "metadata": {
  "kernelspec": {
   "display_name": "Python 3",
   "language": "python",
   "name": "python3"
  },
  "language_info": {
   "codemirror_mode": {
    "name": "ipython",
    "version": 3
   },
   "file_extension": ".py",
   "mimetype": "text/x-python",
   "name": "python",
   "nbconvert_exporter": "python",
   "pygments_lexer": "ipython3",
   "version": "3.8.8"
  }
 },
 "nbformat": 4,
 "nbformat_minor": 5
}
